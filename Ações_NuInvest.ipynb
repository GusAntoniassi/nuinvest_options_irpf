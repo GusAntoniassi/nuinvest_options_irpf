{
  "nbformat": 4,
  "nbformat_minor": 0,
  "metadata": {
    "colab": {
      "name": "Ações NuInvest.ipynb",
      "provenance": [],
      "collapsed_sections": [],
      "authorship_tag": "ABX9TyNHYAh09HN3aOT4clbS5mdU",
      "include_colab_link": true
    },
    "kernelspec": {
      "name": "python3",
      "display_name": "Python 3"
    },
    "language_info": {
      "name": "python"
    }
  },
  "cells": [
    {
      "cell_type": "markdown",
      "metadata": {
        "id": "view-in-github",
        "colab_type": "text"
      },
      "source": [
        "<a href=\"https://colab.research.google.com/github/jopapo/nuinvest_options_irpf/blob/main/A%C3%A7%C3%B5es_NuInvest.ipynb\" target=\"_parent\"><img src=\"https://colab.research.google.com/assets/colab-badge.svg\" alt=\"Open In Colab\"/></a>"
      ]
    },
    {
      "cell_type": "code",
      "source": [
        "# Not installed libs\n",
        "\n",
        "!pip install pdfminer"
      ],
      "metadata": {
        "id": "1dbXeftmRB4n"
      },
      "execution_count": null,
      "outputs": []
    },
    {
      "cell_type": "code",
      "execution_count": 31,
      "metadata": {
        "id": "XnKw5zDwWR0d"
      },
      "outputs": [],
      "source": [
        "# Requirements\n",
        "\n",
        "import requests\n",
        "from pathlib import Path\n",
        "from getpass import getpass"
      ]
    },
    {
      "cell_type": "code",
      "source": [
        "# Variables\n",
        "year = 2021\n",
        "\n",
        "access_token = \"eyJhbGciOiJIUzI1NiIsInR5cCI6IkpXVCJ9.eyJuYmYiOjE2NDcwNTY4NjUsImV4cCI6MTY0NzA4NTY2NSwiaXNzIjoiaHR0cHM6Ly9hcGkuZWFzeW52ZXN0LmNvbS5ici9hdXRoIiwiYXVkIjpbImh0dHBzOi8vYXBpLmVhc3ludmVzdC5jb20uYnIvYXV0aC9yZXNvdXJjZXMiLCJodHRwczovL3d3dy5lYXN5bnZlc3QuY29tLmJyIl0sImNsaWVudF9pZCI6Ijg3NmRhYjIxOTA0NjQ4ODRiZjliMDkyYWExNDA3NTg1Iiwic3ViIjoiMDA3NzE1MzA5MDAiLCJhdXRoX3RpbWUiOjE2NDcwNTY4NjUsImlkcCI6Imh0dHBzOi8vYXBpLmVhc3ludmVzdC5jb20uYnIvYXV0aCIsInVuaXF1ZV9uYW1lIjoiMDA3NzE1MzA5MDAiLCJodHRwOi8vc2NoZW1hcy54bWxzb2FwLm9yZy93cy8yMDA1LzA1L2lkZW50aXR5L2NsYWltcy9uYW1laWRlbnRpZmllciI6IjAwNzcxNTMwOTAwIiwibmFtZWlkIjoiMDA3NzE1MzA5MDAiLCJodHRwOi8vc2NoZW1hcy54bWxzb2FwLm9yZy93cy8yMDA1LzA1L2lkZW50aXR5L2NsYWltcy9naXZlbm5hbWUiOiJKb2FvIFBhdWxvIFBvZmZvIiwiZ2l2ZW5fbmFtZSI6IkpvYW8gUGF1bG8gUG9mZm8iLCJ2ZXJzaW9uIjoidjEiLCJodHRwOi8vc2NoZW1hcy54bWxzb2FwLm9yZy93cy8yMDA1LzA1L2lkZW50aXR5L2NsYWltcy9lbWFpbGFkZHJlc3MiOiJqb3BhcG9AZ21haWwuY29tIiwiZW1haWwiOiJqb3BhcG9AZ21haWwuY29tIiwiYWNjIjoiNjgzMjI1MSIsImFkdiI6IjgwIiwiZXN0ayI6Imluc3RhbGxlZCIsImNsaSI6IntcIkNsaWVudElkXCI6XCI4NzZkYWIyMTkwNDY0ODg0YmY5YjA5MmFhMTQwNzU4NVwiLFwiTmFtZVwiOlwiUG9ydGFsL0hvbWUgQnJva2VyXCIsXCJJbnRlcm5hbFwiOmZhbHNlfSIsImNpYSI6Ijo6ZmZmZjoxMC42NS43NS4xMjYiLCJkZXZpY2VfaWQiOiJhYTVjNmFjMmNlNDYxMmVkMDVkMTllYTc4MmVmZWExZiIsInNjb3BlIjpbIm9wZW5pZCIsImh0dHBzOi8vd3d3LmVhc3ludmVzdC5jb20uYnIiLCJvZmZsaW5lX2FjY2VzcyJdLCJhbXIiOlsicGFzc3dvcmQiXX0.GrjyZcfiwg7Tc68wB_cIusIGTxysSXpkQ_A2pFUX0OA\"\n",
        "\n",
        "session = requests.Session()\n",
        "session.headers.update({'Authorization': f\"Bearer {access_token}\"})\n"
      ],
      "metadata": {
        "id": "Qu5OefZ8WnB3"
      },
      "execution_count": 26,
      "outputs": []
    },
    {
      "cell_type": "code",
      "source": [
        "# Get Invoices Pdfs\n",
        "\n",
        "def get_invoices(prefix):\n",
        "\n",
        "  response = session.get(f\"https://www.nuinvest.com.br/api/gringott/invoices/1/{prefix}?startDate={year}-01-01&endDate={year}-12-31\")\n",
        "  response.raise_for_status()\n",
        "\n",
        "  print(prefix, response)\n",
        "\n",
        "  invoices = []\n",
        "  if response.status_code == 204:\n",
        "    print(f'No data for {prefix}')\n",
        "  else:\n",
        "    invoices = response.json()['value']['invoices']\n",
        "  \n",
        "  for invoice in invoices:\n",
        "    params_values = {key:val for (key,val) in invoice.items() if key in ['invoiceNumber', 'custodyId', 'date']}\n",
        "    # FI não tem custodyId\n",
        "    # RV tem o data e não tem custodyid\n",
        "    # Não testado com TP e PS pq eu não tinha papéis pra isso\n",
        "\n",
        "    response = session.get(f\"https://www.nuinvest.com.br/api/gringott/invoices/report/1/{prefix}\", params=params_values, stream=True)\n",
        "    response.raise_for_status()\n",
        "\n",
        "    filename = Path(f\"Invoice_{prefix}_\" + '_'.join(str(x) for x in params_values.values()) + '.pdf')\n",
        "    filename.write_bytes(response.content)\n",
        "\n",
        "papers = ['TD', 'TP', 'FI', 'RV', 'PS']\n",
        "for paper in papers:\n",
        "  get_invoices(paper)\n",
        "\n"
      ],
      "metadata": {
        "colab": {
          "base_uri": "https://localhost:8080/"
        },
        "id": "BHrEPpYuWtym",
        "outputId": "1253bcdd-721d-41e6-8cdd-efaa1f49847c"
      },
      "execution_count": 27,
      "outputs": [
        {
          "output_type": "stream",
          "name": "stdout",
          "text": [
            "TD <Response [200]>\n",
            "TP <Response [204]>\n",
            "No data for TP\n",
            "FI <Response [200]>\n",
            "RV <Response [200]>\n",
            "PS <Response [204]>\n",
            "No data for PS\n"
          ]
        }
      ]
    },
    {
      "cell_type": "code",
      "source": [
        "# Process all pdfs to txt\n",
        "%%bash\n",
        "for f in *.pdf\n",
        "do\n",
        " pdf2txt.py -o $f.txt $f\n",
        "done"
      ],
      "metadata": {
        "id": "I_b8nTyETsK_"
      },
      "execution_count": 15,
      "outputs": []
    }
  ]
}