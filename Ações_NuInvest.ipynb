{
  "nbformat": 4,
  "nbformat_minor": 0,
  "metadata": {
    "colab": {
      "name": "Ações NuInvest.ipynb",
      "provenance": [],
      "collapsed_sections": [],
      "authorship_tag": "ABX9TyOxwFrPhKRg2ykswf1i0V6x",
      "include_colab_link": true
    },
    "kernelspec": {
      "name": "python3",
      "display_name": "Python 3"
    },
    "language_info": {
      "name": "python"
    }
  },
  "cells": [
    {
      "cell_type": "markdown",
      "metadata": {
        "id": "view-in-github",
        "colab_type": "text"
      },
      "source": [
        "<a href=\"https://colab.research.google.com/github/jopapo/nuinvest_options_irpf/blob/main/A%C3%A7%C3%B5es_NuInvest.ipynb\" target=\"_parent\"><img src=\"https://colab.research.google.com/assets/colab-badge.svg\" alt=\"Open In Colab\"/></a>"
      ]
    },
    {
      "cell_type": "code",
      "source": [
        "# Not installed libs\n",
        "\n",
        "!pip install pdfminer"
      ],
      "metadata": {
        "id": "1dbXeftmRB4n"
      },
      "execution_count": null,
      "outputs": []
    },
    {
      "cell_type": "code",
      "execution_count": 31,
      "metadata": {
        "id": "XnKw5zDwWR0d"
      },
      "outputs": [],
      "source": [
        "# Requirements\n",
        "\n",
        "import requests\n",
        "from pathlib import Path\n",
        "from getpass import getpass"
      ]
    },
    {
      "cell_type": "code",
      "source": [
        "# Variables\n",
        "year = 2021\n",
        "\n",
        "# You should login to your nuinvest account and get the bearer token from the request\n",
        "access_token = getpass('bearer token')\n",
        "\n",
        "session = requests.Session()\n",
        "session.headers.update({'Authorization': f\"Bearer {access_token}\"})\n"
      ],
      "metadata": {
        "id": "Qu5OefZ8WnB3"
      },
      "execution_count": 26,
      "outputs": []
    },
    {
      "cell_type": "code",
      "source": [
        "# Get Invoices Pdfs\n",
        "\n",
        "def get_invoices(prefix):\n",
        "\n",
        "  response = session.get(f\"https://www.nuinvest.com.br/api/gringott/invoices/1/{prefix}?startDate={year}-01-01&endDate={year}-12-31\")\n",
        "  response.raise_for_status()\n",
        "\n",
        "  print(prefix, response)\n",
        "\n",
        "  invoices = []\n",
        "  if response.status_code == 204:\n",
        "    print(f'No data for {prefix}')\n",
        "  else:\n",
        "    invoices = response.json()['value']['invoices']\n",
        "  \n",
        "  for invoice in invoices:\n",
        "    params_values = {key:val for (key,val) in invoice.items() if key in ['invoiceNumber', 'custodyId', 'date']}\n",
        "    # FI não tem custodyId\n",
        "    # RV tem o data e não tem custodyid\n",
        "    # Não testado com TP e PS pq eu não tinha papéis pra isso\n",
        "\n",
        "    response = session.get(f\"https://www.nuinvest.com.br/api/gringott/invoices/report/1/{prefix}\", params=params_values, stream=True)\n",
        "    response.raise_for_status()\n",
        "\n",
        "    filename = Path(f\"Invoice_{prefix}_\" + '_'.join(str(x) for x in params_values.values()) + '.pdf')\n",
        "    filename.write_bytes(response.content)\n",
        "\n",
        "papers = ['TD', 'TP', 'FI', 'RV', 'PS']\n",
        "for paper in papers:\n",
        "  get_invoices(paper)\n",
        "\n"
      ],
      "metadata": {
        "colab": {
          "base_uri": "https://localhost:8080/"
        },
        "id": "BHrEPpYuWtym",
        "outputId": "1253bcdd-721d-41e6-8cdd-efaa1f49847c"
      },
      "execution_count": 27,
      "outputs": [
        {
          "output_type": "stream",
          "name": "stdout",
          "text": [
            "TD <Response [200]>\n",
            "TP <Response [204]>\n",
            "No data for TP\n",
            "FI <Response [200]>\n",
            "RV <Response [200]>\n",
            "PS <Response [204]>\n",
            "No data for PS\n"
          ]
        }
      ]
    },
    {
      "cell_type": "code",
      "source": [
        "# Process all pdfs to txt\n",
        "%%bash\n",
        "for f in *.pdf\n",
        "do\n",
        " pdf2txt.py -o $f.txt $f\n",
        "done"
      ],
      "metadata": {
        "id": "I_b8nTyETsK_"
      },
      "execution_count": 15,
      "outputs": []
    }
  ]
}