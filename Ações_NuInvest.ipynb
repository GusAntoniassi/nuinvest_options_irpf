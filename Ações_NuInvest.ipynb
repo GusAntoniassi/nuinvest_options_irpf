{
  "nbformat": 4,
  "nbformat_minor": 0,
  "metadata": {
    "colab": {
      "name": "Ações NuInvest.ipynb",
      "provenance": [],
      "collapsed_sections": [],
      "authorship_tag": "ABX9TyPEcvZNZ14KsWyhAq2aP1Ag",
      "include_colab_link": true
    },
    "kernelspec": {
      "name": "python3",
      "display_name": "Python 3"
    },
    "language_info": {
      "name": "python"
    }
  },
  "cells": [
    {
      "cell_type": "markdown",
      "metadata": {
        "id": "view-in-github",
        "colab_type": "text"
      },
      "source": [
        "<a href=\"https://colab.research.google.com/github/jopapo/nuinvest_options_irpf/blob/main/A%C3%A7%C3%B5es_NuInvest.ipynb\" target=\"_parent\"><img src=\"https://colab.research.google.com/assets/colab-badge.svg\" alt=\"Open In Colab\"/></a>"
      ]
    },
    {
      "cell_type": "markdown",
      "source": [
        "Isso vai instalar a biblioteca de processamento das notas de negociação em PDF e instalar os módulos necessários ao algoritmo"
      ],
      "metadata": {
        "id": "QtWKudcIVMhv"
      }
    },
    {
      "cell_type": "code",
      "source": [
        "# Not installed libs\n",
        "\n",
        "!pip install pdfminer"
      ],
      "metadata": {
        "id": "1dbXeftmRB4n"
      },
      "execution_count": null,
      "outputs": []
    },
    {
      "cell_type": "code",
      "execution_count": null,
      "metadata": {
        "id": "XnKw5zDwWR0d"
      },
      "outputs": [],
      "source": [
        "# Requirements\n",
        "\n",
        "import requests\n",
        "from pathlib import Path\n",
        "from getpass import getpass\n",
        "import os\n",
        "import re"
      ]
    },
    {
      "cell_type": "markdown",
      "source": [
        "Isso aqui vai setar a autenticação.\n",
        "\n",
        "Observação: Ele não autentica. Você deve autenticar na sua conta nuinvest e obter o bearer token usando o dev tools do seu navegador."
      ],
      "metadata": {
        "id": "0nxWcF3DVYOe"
      }
    },
    {
      "cell_type": "code",
      "source": [
        "# Variables\n",
        "year = 2021\n",
        "\n",
        "# You should login to your nuinvest account and get the bearer token from the request\n",
        "access_token = getpass('bearer token')\n",
        "\n",
        "session = requests.Session()\n",
        "session.headers.update({'Authorization': f\"Bearer {access_token}\"})\n"
      ],
      "metadata": {
        "id": "Qu5OefZ8WnB3"
      },
      "execution_count": null,
      "outputs": []
    },
    {
      "cell_type": "markdown",
      "source": [
        "Este resumo é interessante mas faltam informações como CNPJ da empresa e taxa. É bom pra fazer uma prova real."
      ],
      "metadata": {
        "id": "08SzgvRYdxy2"
      }
    },
    {
      "cell_type": "code",
      "source": [
        "# Get Invoices Pdfs\n",
        "\n",
        "def get_summary():\n",
        "\n",
        "  response = session.get(f\"https://www.nuinvest.com.br/api/gringott/tradingSummary/1?startDate={year}-01-01&endDate={year}-12-31\")\n",
        "  response.raise_for_status()\n",
        "\n",
        "  print(response)\n",
        "\n",
        "  trades = []\n",
        "  if response.status_code == 204:\n",
        "    print(f'No data period')\n",
        "  else:\n",
        "    trades = response.json()['value']['statements']\n",
        "  \n",
        "  totals = {}\n",
        "  for trade in trades:\n",
        "    total = totals.get(trade['ticker'])\n",
        "    if not total:\n",
        "      total = {\n",
        "          'sellQuantity': 0,\n",
        "          'buyQuantity': 0,\n",
        "          'totalBuyValue': 0.0\n",
        "      }\n",
        "    total['sellQuantity'] = total['sellQuantity'] + trade['sellQuantity']\n",
        "    total['buyQuantity'] = total['buyQuantity'] + trade['buyQuantity']\n",
        "    total['totalBuyValue'] = total['totalBuyValue'] + trade['buyValue']\n",
        "    totals[trade['ticker']] = total\n",
        "    #print(trade)\n",
        "\n",
        "  return totals\n",
        "\n",
        "summary = get_summary()\n",
        "\n",
        "for ticker, values in summary.items():\n",
        "  average_price = values['totalBuyValue'] / values['buyQuantity']\n",
        "  print(ticker, 'averageBuyValue:', round(average_price, 2), \n",
        "        'ownedQuantity:', values['buyQuantity'] - values['sellQuantity'],\n",
        "        'ownedValue:', round(values['buyQuantity'] * average_price, 2))\n",
        "\n",
        "\n",
        "# Ações: você pode utilizar o preço médio de compra e o código 31 - Ações.\n",
        "# FIIs: você pode utilizar o preço médio de compra e o código 73 - Fundos de investimento imobiliário.\n",
        "# ETFs: você pode utilizar o preço médio de compra e o código 74 - Fundos de investimento de índice de mercado.\n",
        "# Juros e dividendos creditados e não pagos: você pode utilizar o código 99 - Outros bens e direitos."
      ],
      "metadata": {
        "colab": {
          "base_uri": "https://localhost:8080/"
        },
        "id": "Sw3ek4fCdw3m",
        "outputId": "eb0fe1ae-f5f3-4b1c-92b2-bd78e54e378c"
      },
      "execution_count": 54,
      "outputs": [
        {
          "output_type": "stream",
          "name": "stdout",
          "text": [
            "<Response [200]>\n",
            "ABEV3F averageBuyValue: 16.59 ownedQuantity: 17 ownedValue: 281.97\n",
            "ITUB4F averageBuyValue: 29.12 ownedQuantity: 5 ownedValue: 145.6\n",
            "MGLU3F averageBuyValue: 7.44 ownedQuantity: 80 ownedValue: 595.4\n",
            "GTWR11 averageBuyValue: 100.42 ownedQuantity: 3 ownedValue: 4317.85\n",
            "LVBI11 averageBuyValue: 102.57 ownedQuantity: 52 ownedValue: 5333.8\n"
          ]
        }
      ]
    },
    {
      "cell_type": "markdown",
      "source": [
        "Esse trecho vai baixar todas as notas de negociação (pdf) da NuInvest localmente.\n",
        "\n",
        "Observação: Não testado com FI e RV."
      ],
      "metadata": {
        "id": "mXBndGKPVmqG"
      }
    },
    {
      "cell_type": "code",
      "source": [
        "# Get Invoices Pdfs\n",
        "\n",
        "def get_invoices(prefix):\n",
        "\n",
        "  response = session.get(f\"https://www.nuinvest.com.br/api/gringott/invoices/1/{prefix}?startDate={year}-01-01&endDate={year}-12-31\")\n",
        "  response.raise_for_status()\n",
        "\n",
        "  print(prefix, response)\n",
        "\n",
        "  invoices = []\n",
        "  if response.status_code == 204:\n",
        "    print(f'No data for {prefix}')\n",
        "  else:\n",
        "    invoices = response.json()['value']['invoices']\n",
        "  \n",
        "  for invoice in invoices:\n",
        "    params_values = {key:val for (key,val) in invoice.items() if key in ['invoiceNumber', 'custodyId', 'date']}\n",
        "    # FI não tem custodyId\n",
        "    # RV tem o data e não tem custodyid\n",
        "    # Não testado com TP e PS pq eu não tinha papéis pra isso\n",
        "\n",
        "    response = session.get(f\"https://www.nuinvest.com.br/api/gringott/invoices/report/1/{prefix}\", params=params_values, stream=True)\n",
        "    response.raise_for_status()\n",
        "\n",
        "    filename = Path(f\"Invoice_{prefix}_\" + '_'.join(str(x) for x in params_values.values()) + '.pdf')\n",
        "    filename.write_bytes(response.content)\n",
        "\n",
        "papers = ['TD', 'TP', 'FI', 'RV', 'PS']\n",
        "for paper in papers:\n",
        "  get_invoices(paper)\n",
        "\n"
      ],
      "metadata": {
        "colab": {
          "base_uri": "https://localhost:8080/"
        },
        "id": "BHrEPpYuWtym",
        "outputId": "1253bcdd-721d-41e6-8cdd-efaa1f49847c"
      },
      "execution_count": null,
      "outputs": [
        {
          "output_type": "stream",
          "name": "stdout",
          "text": [
            "TD <Response [200]>\n",
            "TP <Response [204]>\n",
            "No data for TP\n",
            "FI <Response [200]>\n",
            "RV <Response [200]>\n",
            "PS <Response [204]>\n",
            "No data for PS\n"
          ]
        }
      ]
    },
    {
      "cell_type": "markdown",
      "source": [
        "Esse trecho minera os PDFs e transforma em texto para ser mais fácil interpretar os dados."
      ],
      "metadata": {
        "id": "26wMceQ9V1cG"
      }
    },
    {
      "cell_type": "code",
      "source": [
        "# Process all pdfs to txt\n",
        "%%bash\n",
        "for f in *.pdf\n",
        "do\n",
        " pdf2txt.py -o $f.txt $f\n",
        "done"
      ],
      "metadata": {
        "id": "I_b8nTyETsK_"
      },
      "execution_count": null,
      "outputs": []
    },
    {
      "cell_type": "markdown",
      "source": [
        "Aqui lemos os textos e sumarizamos o que deve ser declarado e onde no IRPF.\n",
        "\n",
        "Importante: Não nos responsabilizamos pela corretude dessas informações. Use por sua conta e risco."
      ],
      "metadata": {
        "id": "oXn7YKXLV8vv"
      }
    },
    {
      "cell_type": "code",
      "source": [
        "# FI = fundo de investimento\n",
        "# TD = tesouro direto\n",
        "# TP = tesouro privado\n",
        "# RV = B3 ações/opções\n",
        "# PS = títulos públicos\n",
        "\n",
        "data = {}\n",
        "\n",
        "for entry in os.scandir('.'):\n",
        "    if entry.is_file() and entry.name.endswith('.txt'):\n",
        "      txt = Path(entry).read_text()\n",
        "      #print(entry)\n",
        "\n",
        "      if entry.name.startswith('Invoice_FI_'):\n",
        "        matches = re.search(r\"\\n\\bCNPJ Fundo\\n(.+)\\b\", txt)\n",
        "        cnpj = matches.group(1)\n",
        "\n",
        "        cumulated = data.get(cnpj)\n",
        "        if not cumulated:\n",
        "          cumulated = {}\n",
        "\n",
        "          matches = re.search(r\"\\n\\bFundo\\n(.+)\\b\", txt)\n",
        "          cumulated['name'] = matches.group(1)\n",
        "          \n",
        "          cumulated['buy_quantity'] = 0\n",
        "          cumulated['total_buy_value'] = 0\n",
        "          cumulated['sell_quantity'] = 0\n",
        "          cumulated['irpf_code'] = 73 # FIIs: você pode utilizar o preço médio de compra e o código 73 - Fundos de investimento imobiliário.\n",
        "\n",
        "        matches = re.search(r\"\\n\\bQuantidade de cotas\\n(.+)\\b\", txt)\n",
        "        share_qty = float(matches.group(1).replace('.','').replace(',','.'))\n",
        "\n",
        "        #matches = re.search(r\"\\n\\bValor da Cota\\n(.+)\\b\", txt)\n",
        "        #share_value = matches.group(1)\n",
        "        \n",
        "        matches = re.search(r\"\\n\\bValor da Operação\\n(.+)\\b\", txt)\n",
        "        operation_value = float(matches.group(1).replace('.','').replace(',','.').replace('R$ ',''))\n",
        "\n",
        "        matches = re.search(r\"\\n\\bNota de\\n(.+)\\b\", txt)\n",
        "        trade_type = matches.group(1)\n",
        "        if trade_type == 'APLICAÇÃO':\n",
        "          cumulated['buy_quantity'] = cumulated['buy_quantity'] + share_qty\n",
        "          cumulated['total_buy_value'] = cumulated['total_buy_value'] + operation_value\n",
        "        else:\n",
        "          cumulated['sell_quantity'] = cumulated['sell_quantity'] + share_qty\n",
        "\n",
        "        cumulated['average_buy_value'] = cumulated['total_buy_value'] / cumulated['buy_quantity']\n",
        "        cumulated['owned_total'] = cumulated['average_buy_value'] * (cumulated['buy_quantity'] - cumulated['sell_quantity'])\n",
        "\n",
        "        data[cnpj] = cumulated\n",
        "\n",
        "      elif entry.name.startswith('Invoice_TD_'):\n",
        "        matches = re.search(r\"\\n\\bTipo\\n(.+)\\b\", txt)\n",
        "        \n",
        "        cnpj = '62.169.875/0001-79' # Tesouro Direto é a própria corretora\n",
        "\n",
        "        cumulated = data.get(cnpj)\n",
        "        if not cumulated:\n",
        "          cumulated = {}\n",
        "\n",
        "          matches = re.search(r\"\\n\\bTítulo\\n(.+)\\b\", txt)\n",
        "          cumulated['name'] = matches.group(1)\n",
        "          \n",
        "          cumulated['buy_quantity'] = 0\n",
        "          cumulated['total_buy_value'] = 0\n",
        "          cumulated['sell_quantity'] = 0\n",
        "          cumulated['irpf_code'] = 45 # 45 – Aplicação de renda fixa (CDB, RDB e outros)\n",
        "\n",
        "        matches = re.search(r\"\\n\\bQuantidade\\n(.+)\\b\", txt)\n",
        "        share_qty = float(matches.group(1).replace('.','').replace(',','.'))\n",
        "\n",
        "        #matches = re.search(r\"\\n\\bValor 1 título\\n(.+)\\b\", txt)\n",
        "        #share_value = matches.group(1)\n",
        "        \n",
        "        matches = re.search(r\"\\n\\bValor Total\\n(.+)\\b\", txt)\n",
        "        operation_value = float(matches.group(1).replace('.','').replace(',','.').replace('R$ ',''))\n",
        "\n",
        "        matches = re.search(r\"\\n\\bTipo\\n(.+)\\b\", txt)\n",
        "        trade_type = matches.group(1)\n",
        "        if trade_type == 'Compra':\n",
        "          cumulated['buy_quantity'] = cumulated['buy_quantity'] + share_qty\n",
        "          cumulated['total_buy_value'] = cumulated['total_buy_value'] + operation_value\n",
        "        else:\n",
        "          cumulated['sell_quantity'] = cumulated['sell_quantity'] + share_qty\n",
        "\n",
        "        cumulated['average_buy_value'] = cumulated['total_buy_value'] / cumulated['buy_quantity']\n",
        "        cumulated['owned_total'] = cumulated['average_buy_value'] * (cumulated['buy_quantity'] - cumulated['sell_quantity'])\n",
        "\n",
        "        data[cnpj] = cumulated\n",
        "\n",
        "      elif entry.name.startswith('Invoice_RV_'):\n",
        "\n",
        "        # Isso vai ser pego pelo bloco anterior.\n",
        "        pass\n",
        "\n",
        "        # regex = r\"(\\bFRACIONARIO\\b|\\bVISTA\\b)\"\n",
        "        # matches = re.finditer(regex, txt, re.MULTILINE)\n",
        "        # for matchNum, match in enumerate(matches, start=1):\n",
        "        #   print(match)\n",
        "        #   data[matchNum] = {'type': match.group(0)}\n",
        "        #   word = re.compile(\"\\w+\", re.MULTILINE)\n",
        "        #   next_word = word.match(txt, match.endpos)\n",
        "        #   print(next_word)\n",
        "        #   data[matchNum]['option'] = next_word.group(0)\n",
        "\n",
        "      else:\n",
        "        print('Não implementado:', entry.name)\n",
        "\n",
        "      \n",
        "import json\n",
        "print(json.dumps(data, indent=4, sort_keys=True))"
      ],
      "metadata": {
        "colab": {
          "base_uri": "https://localhost:8080/"
        },
        "id": "0gKjngsAV7vZ",
        "outputId": "5ce6f687-a797-4e22-c464-d021c9adaea5"
      },
      "execution_count": 51,
      "outputs": [
        {
          "output_type": "stream",
          "name": "stdout",
          "text": [
            "{\n",
            "    \"09.625.909/0001-00\": {\n",
            "        \"average_buy_value\": 3.5236081747709656,\n",
            "        \"buy_quantity\": 85.14,\n",
            "        \"irpf_code\": 73,\n",
            "        \"name\": \"Artesanal FIC de FIM\",\n",
            "        \"owned_total\": 300.0,\n",
            "        \"sell_quantity\": 0,\n",
            "        \"total_buy_value\": 300.0\n",
            "    },\n",
            "    \"10.783.480/0001-68\": {\n",
            "        \"average_buy_value\": 2.9682398337785694,\n",
            "        \"buy_quantity\": 33.69,\n",
            "        \"irpf_code\": 73,\n",
            "        \"name\": \"Daycoval Classic FIRF CP\",\n",
            "        \"owned_total\": 100.0,\n",
            "        \"sell_quantity\": 0,\n",
            "        \"total_buy_value\": 100.0\n",
            "    },\n",
            "    \"39.572.994/0001-56\": {\n",
            "        \"average_buy_value\": 112.35955056179775,\n",
            "        \"buy_quantity\": 0.89,\n",
            "        \"irpf_code\": 73,\n",
            "        \"name\": \"Easynvest Top A\\u00e7\\u00f5es\",\n",
            "        \"owned_total\": 100.0,\n",
            "        \"sell_quantity\": 0,\n",
            "        \"total_buy_value\": 100.0\n",
            "    },\n",
            "    \"62.169.875/0001-79\": {\n",
            "        \"average_buy_value\": 10765.776223776222,\n",
            "        \"buy_quantity\": 1.4300000000000002,\n",
            "        \"irpf_code\": 45,\n",
            "        \"name\": \"Tesouro Selic 2027\",\n",
            "        \"owned_total\": 15395.06,\n",
            "        \"sell_quantity\": 0,\n",
            "        \"total_buy_value\": 15395.06\n",
            "    }\n",
            "}\n"
          ]
        }
      ]
    },
    {
      "cell_type": "code",
      "source": [
        ""
      ],
      "metadata": {
        "id": "reuXUjNehle-"
      },
      "execution_count": null,
      "outputs": []
    }
  ]
}